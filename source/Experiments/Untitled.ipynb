{
 "cells": [
  {
   "cell_type": "code",
   "execution_count": 1,
   "id": "d526d7b4-78c4-469d-9c54-3de46f1848ea",
   "metadata": {},
   "outputs": [
    {
     "name": "stderr",
     "output_type": "stream",
     "text": [
      "INFO: pikepdf C++ to Python logger bridge initialized\n"
     ]
    },
    {
     "name": "stdout",
     "output_type": "stream",
     "text": [
      "Warning: No languages specified, defaulting to English.\n",
      "✅ Extracted text saved to rsob_240345.txt\n"
     ]
    }
   ],
   "source": [
    "from langchain_unstructured import UnstructuredLoader\n",
    "\n",
    "file = r\"C:\\Users\\deepa\\Downloads\\Deepanshu Bhatt\\rerprCheck-NLP-base-Biomedical-Research-Checklist-\\Data\\raw\\pmc_pdfs\\rsob.240345.pdf\"\n",
    "loader = UnstructuredLoader(file, mode=\"elements\", strategy=\"fast\")\n",
    "\n",
    "docs = loader.load()  # this is a list of Document objects\n",
    "\n",
    "# Combine all text\n",
    "full_text = \"\\n\\n\".join([d.page_content for d in docs])\n",
    "\n",
    "# Save to a txt file\n",
    "output_file = \"rsob_240345.txt\"\n",
    "with open(output_file, \"w\", encoding=\"utf-8\") as f:\n",
    "    f.write(full_text)\n",
    "\n",
    "print(f\"✅ Extracted text saved to {output_file}\")"
   ]
  },
  {
   "cell_type": "code",
   "execution_count": 14,
   "id": "bfc869da-8664-4002-8145-68af819d60e9",
   "metadata": {},
   "outputs": [],
   "source": [
    "with open(\"rsob_240345.txt\", \"r\", encoding = \"utf-8\") as f:\n",
    "    text = f.read()"
   ]
  },
  {
   "cell_type": "code",
   "execution_count": null,
   "id": "998bdd25-eb8b-45f6-a4ab-c5e714042f67",
   "metadata": {},
   "outputs": [],
   "source": []
  }
 ],
 "metadata": {
  "kernelspec": {
   "display_name": "venv",
   "language": "python",
   "name": "venv"
  },
  "language_info": {
   "codemirror_mode": {
    "name": "ipython",
    "version": 3
   },
   "file_extension": ".py",
   "mimetype": "text/x-python",
   "name": "python",
   "nbconvert_exporter": "python",
   "pygments_lexer": "ipython3",
   "version": "3.11.1"
  }
 },
 "nbformat": 4,
 "nbformat_minor": 5
}
